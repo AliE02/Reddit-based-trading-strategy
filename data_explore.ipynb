{
 "cells": [
  {
   "cell_type": "markdown",
   "metadata": {},
   "source": [
    "# Data Exploration and Preprocessing Notebook"
   ]
  },
  {
   "cell_type": "code",
   "execution_count": 11,
   "metadata": {},
   "outputs": [],
   "source": [
    "import json\n",
    "import regex\n",
    "from datetime import datetime, timezone"
   ]
  },
  {
   "cell_type": "markdown",
   "metadata": {},
   "source": [
    "## 1- Extracting relevant data"
   ]
  },
  {
   "cell_type": "markdown",
   "metadata": {},
   "source": [
    "The set of keys that we will consider in our sentiment analysis task are the following:\n",
    "- `selftext`: the text of the post, will contain nuances of the sentiment\n",
    "- `title`: the title of the post often refers to the asset or the topic of the post\n",
    "- `created` or `created_utc`: is the date of creation of the post"
   ]
  },
  {
   "cell_type": "markdown",
   "metadata": {},
   "source": [
    "We removed submissions that had `[deleted]` or `[removed]` in either their text or title. <br>\n",
    "This means that the post was moderated and we cannot use it for our analysis. <br>"
   ]
  },
  {
   "cell_type": "code",
   "execution_count": 3,
   "metadata": {},
   "outputs": [],
   "source": [
    "# create a new json file with data that only contains the above keys\n",
    "data = []\n",
    "with open(\"Data/wallstreetbets_submissions\", \"r\") as f:\n",
    "    for line in f:\n",
    "        d = json.loads(line)\n",
    "        # check if the title or text contains the string \"[removed]\"\n",
    "        if \"[removed]\" not in d['title'] and \"[removed]\" not in d['selftext'] and \"[deleted]\" not in d['title'] and \"[deleted]\" not in d['selftext']:\n",
    "            data.append(\n",
    "                {\n",
    "                    'date': d['created_utc'] if 'created_utc' in d else d['created'],\n",
    "                    'title': d['title'],\n",
    "                    'text': d['selftext'],\n",
    "                }\n",
    "            )"
   ]
  },
  {
   "cell_type": "markdown",
   "metadata": {},
   "source": [
    "There are **822004** such submissions that we will further preprocess in order to perform sentiment analysis.<br>\n",
    "These submissions are going to aliment our sentiment analysis model."
   ]
  },
  {
   "cell_type": "code",
   "execution_count": 4,
   "metadata": {},
   "outputs": [
    {
     "data": {
      "text/plain": [
       "822004"
      ]
     },
     "execution_count": 4,
     "metadata": {},
     "output_type": "execute_result"
    }
   ],
   "source": [
    "len(data)"
   ]
  },
  {
   "cell_type": "markdown",
   "metadata": {},
   "source": [
    "The cleaned data file can be found under `Data/wallstreetbets_submissions_cleaned.json`"
   ]
  },
  {
   "cell_type": "code",
   "execution_count": 5,
   "metadata": {},
   "outputs": [],
   "source": [
    "# write the data to a new file in a well formatted way\n",
    "with open(\"Data/wallstreetbets_submissions_cleaned.json\", \"w\") as f:\n",
    "    json.dump(data, f, indent=4)"
   ]
  },
  {
   "cell_type": "markdown",
   "metadata": {},
   "source": [
    "## 2- SPY Data"
   ]
  },
  {
   "cell_type": "markdown",
   "metadata": {},
   "source": [
    "Now we are going to check how many submissions are related to the S&P 500 ETF (SPY).<br>\n",
    "For this we will be looking for the keywords:\n",
    "- `SPY`\n",
    "- `SP500`\n",
    "- `S&P500`\n",
    "- `S&P 500`\n",
    "- `S&P`\n",
    "- `Standard & Poor's`\n",
    "- `Standard and Poor's`\n",
    "- `Standard and Poor 500`\n",
    "- `Standard & Poor 500`\n",
    "- `Standard and Poor 500`\n",
    "- `Standard & Poor`\n",
    "- `Standard and Poor`\n",
    "- `Standard and Poor's 500`\n",
    "- `Standard & Poor's 500`\n",
    "- `Standard and Poor's 500`\n",
    "in the title and the text <br>\n",
    "We will be using regexes to find these keywords in an optimized way."
   ]
  },
  {
   "cell_type": "code",
   "execution_count": 4,
   "metadata": {},
   "outputs": [],
   "source": [
    "# create a list of regexes that match the words in the above list\n",
    "words = [\"SPY\", \"SP500\", \"S&P500\", \"S&P 500\", \"S&P\", \"Standard & Poor's\", \n",
    "         \"Standard and Poor's\", \"Standard and Poor 500\", \"Standard & Poor 500\", \n",
    "         \"Standard and Poor 500\", \"Standard & Poor\", \"Standard and Poor\", \n",
    "         \"Standard and Poor's 500\", \"Standard & Poor's 500\", \"Standard and Poor's 500\"\n",
    "         ]\n",
    "\n",
    "# create a regex pattern that matches any of the words in the above list\n",
    "pattern = regex.compile(r'\\b(?:' + '|'.join(words) + r')\\b', regex.IGNORECASE)"
   ]
  },
  {
   "cell_type": "code",
   "execution_count": 5,
   "metadata": {},
   "outputs": [],
   "source": [
    "spy_data = []\n",
    "\n",
    "with open(\"Data/wallstreetbets_submissions_cleaned.json\", \"r\") as f:\n",
    "    data = json.load(f)\n",
    "    for d in data:\n",
    "        if pattern.search(d['title']) or pattern.search(d['text']):\n",
    "            spy_data.append(d)"
   ]
  },
  {
   "cell_type": "markdown",
   "metadata": {},
   "source": [
    "The data related to SPY can be found under `Data/wallstreetbets_submissions_SPY.json`"
   ]
  },
  {
   "cell_type": "code",
   "execution_count": 7,
   "metadata": {},
   "outputs": [],
   "source": [
    "with open(\"Data/wallstreetbets_submissions_spy.json\", \"w\") as f:\n",
    "    json.dump(spy_data, f, indent=4)"
   ]
  },
  {
   "cell_type": "markdown",
   "metadata": {},
   "source": [
    "To have an idea on the period that is spanned by the data related to SPY, we will plot the number of submissions per day."
   ]
  },
  {
   "cell_type": "code",
   "execution_count": 25,
   "metadata": {},
   "outputs": [],
   "source": [
    "date_count = {}\n",
    "utc_zone = timezone.utc\n",
    "\n",
    "for d in spy_data:\n",
    "    date = datetime.fromtimestamp(int(d['date']), tz=utc_zone)\n",
    "    if date in date_count:\n",
    "        date_count[date] += 1\n",
    "    else:\n",
    "        date_count[date] = 1"
   ]
  },
  {
   "cell_type": "code",
   "execution_count": 27,
   "metadata": {},
   "outputs": [
    {
     "data": {
      "text/plain": [
       "{1, 2}"
      ]
     },
     "execution_count": 27,
     "metadata": {},
     "output_type": "execute_result"
    }
   ],
   "source": [
    "set(date_count.values())"
   ]
  },
  {
   "cell_type": "code",
   "execution_count": 18,
   "metadata": {},
   "outputs": [],
   "source": [
    "import matplotlib.pyplot as plt\n",
    "import matplotlib.dates as mdates\n",
    "from collections import OrderedDict"
   ]
  },
  {
   "cell_type": "code",
   "execution_count": 29,
   "metadata": {},
   "outputs": [
    {
     "data": {
      "image/png": "[encoded data removed]",
      "text/plain": [
       "<Figure size 640x480 with 1 Axes>"
      ]
     },
     "metadata": {},
     "output_type": "display_data"
    }
   ],
   "source": [
    "# plot the date counts as a bar plot with dates on the x-axis and counts on the y-axis\n",
    "# the y-axis should be a count hence integers and only show years in the x-axis\n",
    "\n",
    "\n",
    "date_count_1 = OrderedDict(sorted(date_count.items()))\n",
    "\n",
    "fig, ax = plt.subplots()\n",
    "ax.bar(date_count_1.keys(), date_count_1.values())\n",
    "ax.xaxis.set_major_locator(mdates.YearLocator())\n",
    "ax.xaxis.set_major_formatter(mdates.DateFormatter('%Y'))\n",
    "plt.xticks(rotation=45)\n",
    "plt.show()\n"
   ]
  },
  {
   "cell_type": "markdown",
   "metadata": {},
   "source": [
    "From the above study, we can see that there is at most 2 submissions per day related to SPY. <br>\n",
    "This is not enough data per day to base our trading strategy on. <br>\n",
    "Therefore, we will have to change our strategy and either look for another asset or try to use all data at <br> our disposal to get a feel for the overall sentiment of the subreddit on the market."
   ]
  }
 ],
 "metadata": {
  "kernelspec": {
   "display_name": "mnlp-a3",
   "language": "python",
   "name": "python3"
  },
  "language_info": {
   "codemirror_mode": {
    "name": "ipython",
    "version": 3
   },
   "file_extension": ".py",
   "mimetype": "text/x-python",
   "name": "python",
   "nbconvert_exporter": "python",
   "pygments_lexer": "ipython3",
   "version": "3.10.12"
  }
 },
 "nbformat": 4,
 "nbformat_minor": 2
}
