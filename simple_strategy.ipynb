{
 "cells": [
  {
   "cell_type": "markdown",
   "metadata": {},
   "source": [
    "# Simple Strategy Notebook"
   ]
  },
  {
   "cell_type": "markdown",
   "metadata": {},
   "source": [
    "Welcome to the Simple Strategy Notebook.<br>\n",
    "In this notebook we are going to explore a simple strategy to trade an asset using sentiment data from `reddit` comments.<br>\n",
    "\n",
    "**Quick overview of the data**:\n",
    "The data consists of a `.csv` file with the following columns:\n",
    "date;avg_sentiment;submission_count;Open;High;Low;Close;Adj Close;Volume\n",
    "- **date**: the date with format `YYYY-MM-DD`\n",
    "- **avg_sentiment**: the average sentiment of the comments in the subreddit on that specific day\n",
    "- **submission_count**: the number of submissions in the subreddit on that specific day related to the asset\n",
    "- **Open**: the opening price of the asset on that specific day\n",
    "- **High**: the highest price of the asset on that specific day\n",
    "- **Low**: the lowest price of the asset on that specific day\n",
    "- **Close**: the closing price of the asset on that specific day\n",
    "- **Adj Close**: the adjusted closing price of the asset on that specific day\n",
    "- **Volume**: the volume of the asset on that specific day\n",
    "\n",
    "**Objective**:\n",
    "The objective of this notebook is to create a simple strategy to trade an asset using the sentiment data from `reddit` comments. The strategy should be simple and easy to understand.\n",
    "\n",
    "**Strategy**:\n",
    "The strategy is simple and consists of the following steps:\n",
    "Our study is always done on a window of 3 days.\n",
    "1. If the average sentiment variance is higher than a certain threshold, we buy the asset.\n",
    "2. If the average sentiment variance is lower than a certain threshold, we sell the asset.\n",
    "3. If the average sentiment variance is between the buy and sell thresholds, we hold the asset."
   ]
  },
  {
   "cell_type": "markdown",
   "metadata": {},
   "source": [
    "## Table of Contents\n",
    "1. [Importing the Libraries](#1.-Importing-the-Libraries)\n",
    "2. [Exploratory Data Analysis](#3.-Exploratory-Data-Analysis)\n",
    "3. [Creating the Strategy](#4.-Creating-the-Strategy)\n",
    "4. [Backtesting the Strategy](#5.-Backtesting-the-Strategy)\n",
    "5. [Conclusion](#6.-Conclusion)"
   ]
  },
  {
   "cell_type": "markdown",
   "metadata": {},
   "source": [
    "## 1. Importing the Libraries"
   ]
  },
  {
   "cell_type": "code",
   "execution_count": 1,
   "metadata": {},
   "outputs": [],
   "source": [
    "import pandas as pd\n",
    "import numpy as np\n",
    "import matplotlib.pyplot as plt"
   ]
  },
  {
   "cell_type": "markdown",
   "metadata": {},
   "source": [
    "## 2. Exploratory Data Analysis"
   ]
  },
  {
   "cell_type": "markdown",
   "metadata": {},
   "source": [
    "### 2.1 Load the Data"
   ]
  },
  {
   "cell_type": "code",
   "execution_count": 32,
   "metadata": {},
   "outputs": [
    {
     "data": {
      "text/html": [
       "<div>\n",
       "<style scoped>\n",
       "    .dataframe tbody tr th:only-of-type {\n",
       "        vertical-align: middle;\n",
       "    }\n",
       "\n",
       "    .dataframe tbody tr th {\n",
       "        vertical-align: top;\n",
       "    }\n",
       "\n",
       "    .dataframe thead th {\n",
       "        text-align: right;\n",
       "    }\n",
       "</style>\n",
       "<table border=\"1\" class=\"dataframe\">\n",
       "  <thead>\n",
       "    <tr style=\"text-align: right;\">\n",
       "      <th></th>\n",
       "      <th>date</th>\n",
       "      <th>avg_sentiment</th>\n",
       "      <th>submission_count</th>\n",
       "      <th>Open</th>\n",
       "      <th>High</th>\n",
       "      <th>Low</th>\n",
       "      <th>Close</th>\n",
       "      <th>Adj Close</th>\n",
       "      <th>Volume</th>\n",
       "    </tr>\n",
       "  </thead>\n",
       "  <tbody>\n",
       "    <tr>\n",
       "      <th>0</th>\n",
       "      <td>2017-01-03</td>\n",
       "      <td>0.0</td>\n",
       "      <td>1</td>\n",
       "      <td>37.896000</td>\n",
       "      <td>37.938000</td>\n",
       "      <td>37.384998</td>\n",
       "      <td>37.683498</td>\n",
       "      <td>37.683498</td>\n",
       "      <td>70422000</td>\n",
       "    </tr>\n",
       "    <tr>\n",
       "      <th>1</th>\n",
       "      <td>2017-01-04</td>\n",
       "      <td>0.0</td>\n",
       "      <td>1</td>\n",
       "      <td>37.919498</td>\n",
       "      <td>37.984001</td>\n",
       "      <td>37.709999</td>\n",
       "      <td>37.859001</td>\n",
       "      <td>37.859001</td>\n",
       "      <td>50210000</td>\n",
       "    </tr>\n",
       "    <tr>\n",
       "      <th>2</th>\n",
       "      <td>2017-01-05</td>\n",
       "      <td>0.5</td>\n",
       "      <td>4</td>\n",
       "      <td>38.077499</td>\n",
       "      <td>39.119999</td>\n",
       "      <td>38.013000</td>\n",
       "      <td>39.022499</td>\n",
       "      <td>39.022499</td>\n",
       "      <td>116602000</td>\n",
       "    </tr>\n",
       "    <tr>\n",
       "      <th>3</th>\n",
       "      <td>2017-01-06</td>\n",
       "      <td>0.0</td>\n",
       "      <td>2</td>\n",
       "      <td>39.118000</td>\n",
       "      <td>39.972000</td>\n",
       "      <td>38.924000</td>\n",
       "      <td>39.799500</td>\n",
       "      <td>39.799500</td>\n",
       "      <td>119724000</td>\n",
       "    </tr>\n",
       "    <tr>\n",
       "      <th>4</th>\n",
       "      <td>2017-01-09</td>\n",
       "      <td>0.0</td>\n",
       "      <td>1</td>\n",
       "      <td>39.900002</td>\n",
       "      <td>40.088501</td>\n",
       "      <td>39.588501</td>\n",
       "      <td>39.846001</td>\n",
       "      <td>39.846001</td>\n",
       "      <td>68922000</td>\n",
       "    </tr>\n",
       "  </tbody>\n",
       "</table>\n",
       "</div>"
      ],
      "text/plain": [
       "         date  avg_sentiment  submission_count       Open       High  \\\n",
       "0  2017-01-03            0.0                 1  37.896000  37.938000   \n",
       "1  2017-01-04            0.0                 1  37.919498  37.984001   \n",
       "2  2017-01-05            0.5                 4  38.077499  39.119999   \n",
       "3  2017-01-06            0.0                 2  39.118000  39.972000   \n",
       "4  2017-01-09            0.0                 1  39.900002  40.088501   \n",
       "\n",
       "         Low      Close  Adj Close     Volume  \n",
       "0  37.384998  37.683498  37.683498   70422000  \n",
       "1  37.709999  37.859001  37.859001   50210000  \n",
       "2  38.013000  39.022499  39.022499  116602000  \n",
       "3  38.924000  39.799500  39.799500  119724000  \n",
       "4  39.588501  39.846001  39.846001   68922000  "
      ]
     },
     "execution_count": 32,
     "metadata": {},
     "output_type": "execute_result"
    }
   ],
   "source": [
    "asset_data = pd.read_csv('Data/final/amzn_data_bis.csv', sep=';')\n",
    "\n",
    "# sorting the data by date\n",
    "asset_data = asset_data.sort_values(by='date')\n",
    "# reset the index\n",
    "asset_data = asset_data.reset_index(drop=True)\n",
    "# presenting the data\n",
    "asset_data.head()"
   ]
  },
  {
   "cell_type": "markdown",
   "metadata": {},
   "source": [
    "### 2.2 Data Processing/Feature Engineering"
   ]
  },
  {
   "cell_type": "code",
   "execution_count": 33,
   "metadata": {},
   "outputs": [],
   "source": [
    "# 3-day rolling variance of the average sentiment\n",
    "asset_data['sentiment_rolling_var'] = asset_data['avg_sentiment'].rolling(window=3).var()\n",
    "# drop the resulting NaN values\n",
    "asset_data = asset_data.dropna()"
   ]
  },
  {
   "cell_type": "markdown",
   "metadata": {},
   "source": [
    "### 2.3 Data Splitting (Train and Test)"
   ]
  },
  {
   "cell_type": "code",
   "execution_count": 34,
   "metadata": {},
   "outputs": [],
   "source": [
    "# Splitting the dataset into training and testing sets (first 80% of data for training, last 20% for testing)\n",
    "train_size = int(0.6 * asset_data.shape[0])\n",
    "train_df = asset_data.iloc[:train_size]\n",
    "test_df = asset_data.iloc[train_size:]"
   ]
  },
  {
   "cell_type": "markdown",
   "metadata": {},
   "source": [
    "## 3. Creating the Strategy"
   ]
  },
  {
   "cell_type": "markdown",
   "metadata": {},
   "source": [
    "### 3.1 Finding Optimal Thresholds"
   ]
  },
  {
   "cell_type": "markdown",
   "metadata": {},
   "source": [
    "All the above sections are relatively straightforward<br>\n",
    "Now we move on to the strategy creation section.<br>\n",
    "Our trading strategy is based on finding the **optimal thresholds** for buying and selling the asset.<br>\n",
    "\n",
    "We will use the `train` data to find the optimal thresholds.<br>\n",
    "Using a **Bayesian Optimization** technique, we will find the optimal thresholds for buying and selling the asset.<br>"
   ]
  },
  {
   "cell_type": "code",
   "execution_count": 35,
   "metadata": {},
   "outputs": [],
   "source": [
    "from bayes_opt import BayesianOptimization"
   ]
  },
  {
   "cell_type": "code",
   "execution_count": 36,
   "metadata": {},
   "outputs": [],
   "source": [
    "## Helper functions\n",
    "\n",
    "def apply_strategy_with_thresholds(df, buy_threshold, sell_threshold):\n",
    "    df['signal'] = 0  # Default to hold\n",
    "    df.loc[df['sentiment_rolling_var'] > buy_threshold, 'signal'] = 1  # Buy\n",
    "    df.loc[df['sentiment_rolling_var'] < sell_threshold, 'signal'] = -1  # Sell\n",
    "    return df\n",
    "\n",
    "def backtest_with_thresholds(df):\n",
    "    # Calculate daily returns\n",
    "    df['Return'] = df['Close'].pct_change()\n",
    "\n",
    "    # Calculate strategy returns\n",
    "    df['strategy_return'] = df['signal'].shift(1) * df['Return']\n",
    "\n",
    "    # Calculate cumulative returns\n",
    "    df['cumulative_strategy_return'] = (1 + df['strategy_return']).cumprod()\n",
    "\n",
    "    return df\n",
    "\n",
    "def evaluate_strategy_with_thresholds(buy_threshold, sell_threshold):\n",
    "    df = train_df.copy()\n",
    "    \n",
    "    df = apply_strategy_with_thresholds(df, buy_threshold, sell_threshold)\n",
    "    df = backtest_with_thresholds(df)\n",
    "    \n",
    "    sharpe_ratio = df['strategy_return'].mean() / df['strategy_return'].std() * (252**0.5)\n",
    "    return sharpe_ratio"
   ]
  },
  {
   "cell_type": "code",
   "execution_count": 37,
   "metadata": {},
   "outputs": [],
   "source": [
    "# Defining the bounds for the thresholds\n",
    "pbounds = {\n",
    "    'buy_threshold': (train_df['sentiment_rolling_var'].quantile(0.5), train_df['sentiment_rolling_var'].quantile(0.95)),\n",
    "    'sell_threshold': (train_df['sentiment_rolling_var'].quantile(0.05), train_df['sentiment_rolling_var'].quantile(0.5))\n",
    "}\n",
    "\n",
    "# Initializing the Bayesian Optimizer\n",
    "optimizer = BayesianOptimization(\n",
    "    f=evaluate_strategy_with_thresholds,\n",
    "    pbounds=pbounds,\n",
    "    random_state=42\n",
    ")"
   ]
  },
  {
   "cell_type": "code",
   "execution_count": 38,
   "metadata": {},
   "outputs": [
    {
     "name": "stdout",
     "output_type": "stream",
     "text": [
      "|   iter    |  target   | buy_th... | sell_t... |\n",
      "-------------------------------------------------\n",
      "| \u001b[0m1        \u001b[0m | \u001b[0m-0.9086  \u001b[0m | \u001b[0m0.1218   \u001b[0m | \u001b[0m0.03528  \u001b[0m |\n",
      "| \u001b[0m2        \u001b[0m | \u001b[0m-1.024   \u001b[0m | \u001b[0m0.2026   \u001b[0m | \u001b[0m0.02274  \u001b[0m |\n",
      "| \u001b[95m3        \u001b[0m | \u001b[95m0.5634   \u001b[0m | \u001b[95m0.07233  \u001b[0m | \u001b[95m0.006978 \u001b[0m |\n",
      "| \u001b[0m4        \u001b[0m | \u001b[0m-0.406   \u001b[0m | \u001b[0m0.05018  \u001b[0m | \u001b[0m0.03227  \u001b[0m |\n",
      "| \u001b[0m5        \u001b[0m | \u001b[0m-1.215   \u001b[0m | \u001b[0m0.173    \u001b[0m | \u001b[0m0.02664  \u001b[0m |\n",
      "| \u001b[0m6        \u001b[0m | \u001b[0m-0.3333  \u001b[0m | \u001b[0m0.04169  \u001b[0m | \u001b[0m0.03597  \u001b[0m |\n",
      "| \u001b[0m7        \u001b[0m | \u001b[0m-0.2402  \u001b[0m | \u001b[0m0.2254   \u001b[0m | \u001b[0m0.008985 \u001b[0m |\n",
      "| \u001b[95m8        \u001b[0m | \u001b[95m0.6341   \u001b[0m | \u001b[95m0.07817  \u001b[0m | \u001b[95m0.007954 \u001b[0m |\n",
      "| \u001b[0m9        \u001b[0m | \u001b[0m-0.4878  \u001b[0m | \u001b[0m0.1059   \u001b[0m | \u001b[0m0.02011  \u001b[0m |\n",
      "| \u001b[0m10       \u001b[0m | \u001b[0m-0.4878  \u001b[0m | \u001b[0m0.1348   \u001b[0m | \u001b[0m0.01179  \u001b[0m |\n",
      "| \u001b[0m11       \u001b[0m | \u001b[0m0.5903   \u001b[0m | \u001b[0m0.07227  \u001b[0m | \u001b[0m0.007271 \u001b[0m |\n",
      "| \u001b[0m12       \u001b[0m | \u001b[0m-0.3711  \u001b[0m | \u001b[0m0.07585  \u001b[0m | \u001b[0m0.02209  \u001b[0m |\n",
      "| \u001b[0m13       \u001b[0m | \u001b[0m-0.1813  \u001b[0m | \u001b[0m0.06294  \u001b[0m | \u001b[0m0.01213  \u001b[0m |\n",
      "| \u001b[0m14       \u001b[0m | \u001b[0m0.1507   \u001b[0m | \u001b[0m0.088    \u001b[0m | \u001b[0m0.008015 \u001b[0m |\n",
      "| \u001b[0m15       \u001b[0m | \u001b[0m-0.2011  \u001b[0m | \u001b[0m0.07511  \u001b[0m | \u001b[0m0.01263  \u001b[0m |\n",
      "| \u001b[95m16       \u001b[0m | \u001b[95m1.013    \u001b[0m | \u001b[95m0.08093  \u001b[0m | \u001b[95m0.003959 \u001b[0m |\n",
      "| \u001b[0m17       \u001b[0m | \u001b[0m0.8144   \u001b[0m | \u001b[0m0.08479  \u001b[0m | \u001b[0m0.001584 \u001b[0m |\n",
      "| \u001b[95m18       \u001b[0m | \u001b[95m1.213    \u001b[0m | \u001b[95m0.07843  \u001b[0m | \u001b[95m0.001422 \u001b[0m |\n",
      "| \u001b[0m19       \u001b[0m | \u001b[0m0.6919   \u001b[0m | \u001b[0m0.09845  \u001b[0m | \u001b[0m0.001479 \u001b[0m |\n",
      "| \u001b[0m20       \u001b[0m | \u001b[0m0.1808   \u001b[0m | \u001b[0m0.1932   \u001b[0m | \u001b[0m0.005782 \u001b[0m |\n",
      "| \u001b[0m21       \u001b[0m | \u001b[0m0.6157   \u001b[0m | \u001b[0m0.1065   \u001b[0m | \u001b[0m0.002656 \u001b[0m |\n",
      "| \u001b[0m22       \u001b[0m | \u001b[0m0.2102   \u001b[0m | \u001b[0m0.1171   \u001b[0m | \u001b[0m0.001597 \u001b[0m |\n",
      "| \u001b[0m23       \u001b[0m | \u001b[0m0.1335   \u001b[0m | \u001b[0m0.1007   \u001b[0m | \u001b[0m0.007797 \u001b[0m |\n",
      "| \u001b[0m24       \u001b[0m | \u001b[0m1.213    \u001b[0m | \u001b[0m0.0787   \u001b[0m | \u001b[0m0.001447 \u001b[0m |\n",
      "| \u001b[0m25       \u001b[0m | \u001b[0m-0.9525  \u001b[0m | \u001b[0m0.2633   \u001b[0m | \u001b[0m0.03704  \u001b[0m |\n",
      "| \u001b[0m26       \u001b[0m | \u001b[0m0.03516  \u001b[0m | \u001b[0m0.2633   \u001b[0m | \u001b[0m0.001422 \u001b[0m |\n",
      "| \u001b[0m27       \u001b[0m | \u001b[0m0.9724   \u001b[0m | \u001b[0m0.03704  \u001b[0m | \u001b[0m0.001422 \u001b[0m |\n",
      "| \u001b[0m28       \u001b[0m | \u001b[0m0.1618   \u001b[0m | \u001b[0m0.1932   \u001b[0m | \u001b[0m0.005921 \u001b[0m |\n",
      "| \u001b[0m29       \u001b[0m | \u001b[0m0.4692   \u001b[0m | \u001b[0m0.03704  \u001b[0m | \u001b[0m0.00922  \u001b[0m |\n",
      "| \u001b[0m30       \u001b[0m | \u001b[0m0.9425   \u001b[0m | \u001b[0m0.04476  \u001b[0m | \u001b[0m0.001422 \u001b[0m |\n",
      "| \u001b[0m31       \u001b[0m | \u001b[0m1.048    \u001b[0m | \u001b[0m0.08095  \u001b[0m | \u001b[0m0.004045 \u001b[0m |\n",
      "| \u001b[0m32       \u001b[0m | \u001b[0m0.7308   \u001b[0m | \u001b[0m0.08329  \u001b[0m | \u001b[0m0.007023 \u001b[0m |\n",
      "| \u001b[0m33       \u001b[0m | \u001b[0m0.9579   \u001b[0m | \u001b[0m0.04106  \u001b[0m | \u001b[0m0.003273 \u001b[0m |\n",
      "| \u001b[0m34       \u001b[0m | \u001b[0m0.715    \u001b[0m | \u001b[0m0.04488  \u001b[0m | \u001b[0m0.00565  \u001b[0m |\n",
      "| \u001b[0m35       \u001b[0m | \u001b[0m1.055    \u001b[0m | \u001b[0m0.07801  \u001b[0m | \u001b[0m0.004737 \u001b[0m |\n",
      "| \u001b[0m36       \u001b[0m | \u001b[0m0.7587   \u001b[0m | \u001b[0m0.04969  \u001b[0m | \u001b[0m0.001715 \u001b[0m |\n",
      "| \u001b[0m37       \u001b[0m | \u001b[0m0.6242   \u001b[0m | \u001b[0m0.09064  \u001b[0m | \u001b[0m0.001577 \u001b[0m |\n",
      "| \u001b[0m38       \u001b[0m | \u001b[0m0.4443   \u001b[0m | \u001b[0m0.05042  \u001b[0m | \u001b[0m0.006919 \u001b[0m |\n",
      "| \u001b[0m39       \u001b[0m | \u001b[0m0.9225   \u001b[0m | \u001b[0m0.03791  \u001b[0m | \u001b[0m0.0049   \u001b[0m |\n",
      "| \u001b[0m40       \u001b[0m | \u001b[0m0.8549   \u001b[0m | \u001b[0m0.05485  \u001b[0m | \u001b[0m0.001539 \u001b[0m |\n",
      "=================================================\n",
      "Best Buy Threshold: 0.07842794774937133\n",
      "Best Sell Threshold: 0.0014224537037041541\n"
     ]
    }
   ],
   "source": [
    "# Performing optimization\n",
    "optimizer.maximize(\n",
    "    init_points=10,  # Number of random points to evaluate before starting the optimization\n",
    "    n_iter=30  # Number of iterations of the optimization\n",
    ")\n",
    "\n",
    "# Getting the best thresholds\n",
    "best_params = optimizer.max['params']\n",
    "best_buy_threshold = best_params['buy_threshold']\n",
    "best_sell_threshold = best_params['sell_threshold']\n",
    "\n",
    "print(f'Best Buy Threshold: {best_buy_threshold}')\n",
    "print(f'Best Sell Threshold: {best_sell_threshold}')\n"
   ]
  },
  {
   "cell_type": "markdown",
   "metadata": {},
   "source": [
    "## 4. Backtesting the Strategy"
   ]
  },
  {
   "cell_type": "markdown",
   "metadata": {},
   "source": [
    "### 4.1 Applying the Strategy on the Test Data"
   ]
  },
  {
   "cell_type": "code",
   "execution_count": 39,
   "metadata": {},
   "outputs": [
    {
     "name": "stderr",
     "output_type": "stream",
     "text": [
      "/var/folders/zj/sr110gkn1vz4qf70llfwlh8c0000gn/T/ipykernel_19124/791920302.py:4: SettingWithCopyWarning: \n",
      "A value is trying to be set on a copy of a slice from a DataFrame.\n",
      "Try using .loc[row_indexer,col_indexer] = value instead\n",
      "\n",
      "See the caveats in the documentation: https://pandas.pydata.org/pandas-docs/stable/user_guide/indexing.html#returning-a-view-versus-a-copy\n",
      "  df['signal'] = 0  # Default to hold\n",
      "/var/folders/zj/sr110gkn1vz4qf70llfwlh8c0000gn/T/ipykernel_19124/791920302.py:4: SettingWithCopyWarning: \n",
      "A value is trying to be set on a copy of a slice from a DataFrame.\n",
      "Try using .loc[row_indexer,col_indexer] = value instead\n",
      "\n",
      "See the caveats in the documentation: https://pandas.pydata.org/pandas-docs/stable/user_guide/indexing.html#returning-a-view-versus-a-copy\n",
      "  df['signal'] = 0  # Default to hold\n",
      "/var/folders/zj/sr110gkn1vz4qf70llfwlh8c0000gn/T/ipykernel_19124/791920302.py:11: SettingWithCopyWarning: \n",
      "A value is trying to be set on a copy of a slice from a DataFrame.\n",
      "Try using .loc[row_indexer,col_indexer] = value instead\n",
      "\n",
      "See the caveats in the documentation: https://pandas.pydata.org/pandas-docs/stable/user_guide/indexing.html#returning-a-view-versus-a-copy\n",
      "  df['Return'] = df['Close'].pct_change()\n",
      "/var/folders/zj/sr110gkn1vz4qf70llfwlh8c0000gn/T/ipykernel_19124/791920302.py:14: SettingWithCopyWarning: \n",
      "A value is trying to be set on a copy of a slice from a DataFrame.\n",
      "Try using .loc[row_indexer,col_indexer] = value instead\n",
      "\n",
      "See the caveats in the documentation: https://pandas.pydata.org/pandas-docs/stable/user_guide/indexing.html#returning-a-view-versus-a-copy\n",
      "  df['strategy_return'] = df['signal'].shift(1) * df['Return']\n",
      "/var/folders/zj/sr110gkn1vz4qf70llfwlh8c0000gn/T/ipykernel_19124/791920302.py:17: SettingWithCopyWarning: \n",
      "A value is trying to be set on a copy of a slice from a DataFrame.\n",
      "Try using .loc[row_indexer,col_indexer] = value instead\n",
      "\n",
      "See the caveats in the documentation: https://pandas.pydata.org/pandas-docs/stable/user_guide/indexing.html#returning-a-view-versus-a-copy\n",
      "  df['cumulative_strategy_return'] = (1 + df['strategy_return']).cumprod()\n",
      "/var/folders/zj/sr110gkn1vz4qf70llfwlh8c0000gn/T/ipykernel_19124/791920302.py:11: SettingWithCopyWarning: \n",
      "A value is trying to be set on a copy of a slice from a DataFrame.\n",
      "Try using .loc[row_indexer,col_indexer] = value instead\n",
      "\n",
      "See the caveats in the documentation: https://pandas.pydata.org/pandas-docs/stable/user_guide/indexing.html#returning-a-view-versus-a-copy\n",
      "  df['Return'] = df['Close'].pct_change()\n",
      "/var/folders/zj/sr110gkn1vz4qf70llfwlh8c0000gn/T/ipykernel_19124/791920302.py:14: SettingWithCopyWarning: \n",
      "A value is trying to be set on a copy of a slice from a DataFrame.\n",
      "Try using .loc[row_indexer,col_indexer] = value instead\n",
      "\n",
      "See the caveats in the documentation: https://pandas.pydata.org/pandas-docs/stable/user_guide/indexing.html#returning-a-view-versus-a-copy\n",
      "  df['strategy_return'] = df['signal'].shift(1) * df['Return']\n",
      "/var/folders/zj/sr110gkn1vz4qf70llfwlh8c0000gn/T/ipykernel_19124/791920302.py:17: SettingWithCopyWarning: \n",
      "A value is trying to be set on a copy of a slice from a DataFrame.\n",
      "Try using .loc[row_indexer,col_indexer] = value instead\n",
      "\n",
      "See the caveats in the documentation: https://pandas.pydata.org/pandas-docs/stable/user_guide/indexing.html#returning-a-view-versus-a-copy\n",
      "  df['cumulative_strategy_return'] = (1 + df['strategy_return']).cumprod()\n"
     ]
    }
   ],
   "source": [
    "# Apply the strategy with the optimal thresholds\n",
    "train_df = apply_strategy_with_thresholds(train_df, best_buy_threshold, best_sell_threshold)\n",
    "test_df = apply_strategy_with_thresholds(test_df, best_buy_threshold, best_sell_threshold)\n",
    "\n",
    "# Backtest the strategy\n",
    "train_df = backtest_with_thresholds(train_df)\n",
    "test_df = backtest_with_thresholds(test_df)"
   ]
  },
  {
   "cell_type": "markdown",
   "metadata": {},
   "source": [
    "### 4.2 Evaluating the Strategy"
   ]
  },
  {
   "cell_type": "code",
   "execution_count": 40,
   "metadata": {},
   "outputs": [],
   "source": [
    "## Helper function\n",
    "def evaluate_performance(df):\n",
    "    sharpe_ratio = df['strategy_return'].mean() / df['strategy_return'].std() * (252**0.5)\n",
    "    max_drawdown = (df['cumulative_strategy_return'].cummax() - df['cumulative_strategy_return']).max()\n",
    "    cumulative_return = df['cumulative_strategy_return'].iloc[-1]\n",
    "    print(f'Sharpe Ratio: {sharpe_ratio}')\n",
    "    print(f'Max Drawdown: {max_drawdown}')\n",
    "    print(f'Cumulative Return: {cumulative_return}')"
   ]
  },
  {
   "cell_type": "code",
   "execution_count": 41,
   "metadata": {},
   "outputs": [
    {
     "name": "stdout",
     "output_type": "stream",
     "text": [
      "Training Set Performance:\n",
      "Sharpe Ratio: 1.213441274021681\n",
      "Max Drawdown: 0.19595611016880077\n",
      "Cumulative Return: 1.7932658482978177\n",
      "\n",
      "Test Set Performance:\n",
      "Sharpe Ratio: 0.02735451863653337\n",
      "Max Drawdown: 0.1821921101036672\n",
      "Cumulative Return: 0.9711004794114958\n"
     ]
    }
   ],
   "source": [
    "# Evaluate performance on both training and test sets\n",
    "print(\"Training Set Performance:\")\n",
    "evaluate_performance(train_df)\n",
    "\n",
    "print(\"\\nTest Set Performance:\")\n",
    "evaluate_performance(test_df)"
   ]
  },
  {
   "cell_type": "markdown",
   "metadata": {},
   "source": [
    "### 4.3 Visualizing the Strategy"
   ]
  },
  {
   "cell_type": "code",
   "execution_count": 42,
   "metadata": {},
   "outputs": [],
   "source": [
    "import matplotlib.pyplot as plt"
   ]
  },
  {
   "cell_type": "code",
   "execution_count": 43,
   "metadata": {},
   "outputs": [
    {
     "data": {
      "image/png": "[encoded data removed]",
      "text/plain": [
       "<Figure size 1400x700 with 1 Axes>"
      ]
     },
     "metadata": {},
     "output_type": "display_data"
    }
   ],
   "source": [
    "# Plot the cumulative returns\n",
    "plt.figure(figsize=(14, 7))\n",
    "plt.plot(train_df['date'], train_df['cumulative_strategy_return'], label='Strategy Return (Train)')\n",
    "plt.plot(test_df['date'], test_df['cumulative_strategy_return'], label='Strategy Return (Test)')\n",
    "plt.legend()\n",
    "plt.show()"
   ]
  },
  {
   "cell_type": "code",
   "execution_count": null,
   "metadata": {},
   "outputs": [],
   "source": [
    "import pandas as pd\n",
    "\n",
    "# Load the data from the CSV file\n",
    "data = pd.read_csv('data.csv')\n",
    "\n",
    "# Define the buy and sell thresholds\n",
    "buy_threshold = 0.5\n",
    "sell_threshold = 0.2\n",
    "\n",
    "# Calculate the average sentiment variance for each window of 3 days\n",
    "data['avg_sentiment_variance'] = data['avg_sentiment'].rolling(window=3).var()\n",
    "\n",
    "# Initialize the position as 'Hold'\n",
    "position = 'Hold'\n",
    "\n",
    "# Iterate over the data and execute the trading strategy\n",
    "for index, row in data.iterrows():\n",
    "    if row['avg_sentiment_variance'] > buy_threshold:\n",
    "        position = 'Buy'\n",
    "    elif row['avg_sentiment_variance'] < sell_threshold:\n",
    "        position = 'Sell'\n",
    "    else:\n",
    "        position = 'Hold'\n",
    "    \n",
    "    # Execute the trade based on the position\n",
    "    # ...\n",
    "    # Your code to execute the trade goes here\n",
    "    \n",
    "    # Print the position for each day\n",
    "    print(f\"Day {index + 1}: {position}\")"
   ]
  }
 ],
 "metadata": {
  "kernelspec": {
   "display_name": "mlinfin",
   "language": "python",
   "name": "python3"
  },
  "language_info": {
   "codemirror_mode": {
    "name": "ipython",
    "version": 3
   },
   "file_extension": ".py",
   "mimetype": "text/x-python",
   "name": "python",
   "nbconvert_exporter": "python",
   "pygments_lexer": "ipython3",
   "version": "3.10.14"
  }
 },
 "nbformat": 4,
 "nbformat_minor": 2
}
